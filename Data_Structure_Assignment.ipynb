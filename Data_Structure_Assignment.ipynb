{
  "nbformat": 4,
  "nbformat_minor": 0,
  "metadata": {
    "colab": {
      "provenance": []
    },
    "kernelspec": {
      "name": "python3",
      "display_name": "Python 3"
    },
    "language_info": {
      "name": "python"
    }
  },
  "cells": [
    {
      "cell_type": "markdown",
      "source": [
        "# **Theory Questions**"
      ],
      "metadata": {
        "id": "chmPZk_F_LGg"
      }
    },
    {
      "cell_type": "markdown",
      "source": [
        "**Question 1.** ***What are data structure and why are they important ?***\n",
        "\n",
        "  > Data Structure is a specialized format for organising , storing, retreiving  processing data efficiently and allowing data to be manipulated in various way by user and system.\n",
        "\n",
        "Type of data structure -\n",
        "\n",
        "   - 1. Built-in Data structure -\n",
        "\n",
        "      > Built-in data structure are data structure supported by default in programming language. They come with predefined syntax and behaviour and can be used without having to import additional libraries or module.\n",
        "\n",
        "        - List\n",
        "        - Tuple\n",
        "        - Set\n",
        "        - Dictionaries\n",
        "\n",
        "   - 2. User-Defined Data Structure -\n",
        "\n",
        "        > User-defined data structure are created by user that are not supported in native programming language but works to acheive similar functionality to existing programming concepts.\n",
        "\n",
        "        >It gives user more control over data and how to manipulate it in a programe , can be implemented by importing additional modules or libraries.\n",
        "\n",
        "        - Array\n",
        "        - stacks\n",
        "        - Queues\n",
        "        - Linked Lists\n",
        "        - Trees\n",
        "        - Graphs\n",
        "        - Hash maps\n",
        "\n",
        "Importance of data structure -\n",
        "\n",
        "  - Performance Optimization - They enable faster data access and manipulation.\n",
        "\n",
        "  - Algorithm Implementation - Many algorithm relies on specific data structure to function correctly and efficiently.\n",
        "\n",
        "  - Memory Management - Proper data structure helps in optimal memory usage, preventing wastage and ensuring scalability.\n",
        "\n",
        "  -Data Organization - They provide systematic way to organise data, making it easier to understand and maintain."
      ],
      "metadata": {
        "id": "uNF-Htq2_ULe"
      }
    },
    {
      "cell_type": "markdown",
      "source": [
        "**Question 2.** ***Explain the difference between mutable and immutable data type with examples.***\n",
        "\n",
        "\n",
        "  > Mutable data type - The data type that can be changed or manipulated after their creation . Modification like adding, replacing, removing or altering elements are done in a place without changing the objects identity.\n",
        "\n",
        "  Examples - List, dict, set, byterray.\n",
        "\n",
        "  > Immutable data type - The data type that cannot be changed after their creation. Any modification results in the creation of new object with new identity.\n",
        "\n",
        "  Example - tuple, frozenset, int, float, complex, string, bytes."
      ],
      "metadata": {
        "id": "TUdppdNwGixK"
      }
    },
    {
      "cell_type": "code",
      "execution_count": null,
      "metadata": {
        "colab": {
          "base_uri": "https://localhost:8080/"
        },
        "id": "0JaXVi9v_JOw",
        "outputId": "83a501ab-e89a-42fe-942f-04ee6f83f6ed"
      },
      "outputs": [
        {
          "output_type": "stream",
          "name": "stdout",
          "text": [
            "[1, 2, 3, 4]\n",
            "[6, 2, 3, 4]\n",
            "[6, 2, 3, 4, 5]\n",
            "[6, 2, 3, 4]\n",
            "{'name': 'Rishabh', 'age': '27', 'gender': 'male'}\n",
            "{'name': 'Rishi', 'age': '27', 'gender': 'male'}\n",
            "{'name': 'Rishi', 'age': '27', 'gender': 'male', 'Graduation': 'B.tech'}\n",
            "{'name': 'Rishi', 'age': '27', 'gender': 'male', 'Graduation': 'B.tech', 'specialization': 'Mechanical Engineering'}\n",
            "{'name': 'Rishi', 'gender': 'male', 'Graduation': 'B.tech', 'specialization': 'Mechanical Engineering'}\n",
            "{}\n",
            "{1, 2, 3, 4}\n",
            "{1, 2, 3, 4, 6}\n",
            "{1, 2, 3, 6}\n",
            "{2, 3, 6}\n",
            "set()\n"
          ]
        }
      ],
      "source": [
        "# Example of mutable data type\n",
        "\n",
        "#1.List\n",
        "l = [1, 2, 3, 4]\n",
        "print (l)\n",
        "\n",
        "#1.1\n",
        "l[0] = 6 # it will replace element at 0 index with 6.\n",
        "print (l)\n",
        "\n",
        "#2.2\n",
        "l.append(5) # it will add 5 at last of the list.\n",
        "print (l)\n",
        "\n",
        "#3.3\n",
        "l.pop() # it will delete last element of the list.\n",
        "print (l)\n",
        "\n",
        "#2 Dictionary\n",
        "emp_details = { \"name\" : \"Rishabh\", \"age\" : \"27\", \"gender\" : \"male\" }\n",
        "print (emp_details)\n",
        "\n",
        "#2.1\n",
        "emp_details[\"name\"] = \"Rishi\" #it will change the value \"Rishabh\" for key \"name\" to \"Rishi\"\n",
        "print (emp_details)\n",
        "\n",
        "#2.2\n",
        "emp_details[\"Graduation\"] = \"B.tech\" # add a new key value pair to the dictionary.\n",
        "print (emp_details)\n",
        "\n",
        "emp_details.update({\"specialization\" : \"Mechanical Engineering\"}) # it also adds a new key value pair to the original dictionary.\n",
        "print (emp_details)\n",
        "\n",
        "#2.3\n",
        "emp_details.pop(\"age\") # removes the key value of\n",
        "print (emp_details)\n",
        "\n",
        "#2.4\n",
        "emp_details.clear() # removes all the key value pair from the dictionary.\n",
        "print (emp_details)\n",
        "\n",
        "\n",
        "\n",
        "#3 Set\n",
        "uni_no = {1, 2, 3, 4, 4, 3, 2, 1}\n",
        "print(uni_no)\n",
        "\n",
        "#3.1\n",
        "uni_no.add(6) #add given argument to the original set.\n",
        "print(uni_no)\n",
        "\n",
        "#3.2\n",
        "uni_no.remove(4) # removes the given argument from the set.\n",
        "print(uni_no)\n",
        "\n",
        "#3.3\n",
        "uni_no.pop() # removes any  random element from the set.\n",
        "print(uni_no)\n",
        "\n",
        "#3.4\n",
        "uni_no.clear() # returns an empty set.\n",
        "print(uni_no)\n"
      ]
    },
    {
      "cell_type": "code",
      "source": [
        "# Examples of immutable data type\n",
        "\n",
        "#1 string\n",
        "name = \"Rishi\"\n",
        "print(name)\n",
        "\n",
        "#1.1\n",
        "#name[0] = \"v\" # Error : String doest not support item assignment.\n",
        "#print (name)\n",
        "\n",
        "#1.2\n",
        "lower_case = name.lower() # will only creates a new string object with value \"rishi\"  only if we will assign this function to another variable because the strings are immutable .\n",
        "print (name) # string \"name\" cannot be chnaged hence output will be same as same as original string \" Rishi\".\n",
        "print (lower_case) # here we assign the result to another variable  thus get the output \"rishi\".\n",
        "\n",
        "\n",
        "#2 tuple\n",
        "marks = (60, 75, 85, 90)\n",
        "print (marks)\n",
        "print (type(marks))\n",
        "\n",
        "#2.1\n",
        "marks[0] = 65  # Error : Tuple doest not support item assignment.\n",
        "print (marks)\n",
        "\n",
        "\n",
        "\n"
      ],
      "metadata": {
        "colab": {
          "base_uri": "https://localhost:8080/",
          "height": 308
        },
        "id": "iEHHvw_XMJD2",
        "outputId": "829f9ed0-c2d1-4a52-a1d6-d550dca4a686"
      },
      "execution_count": null,
      "outputs": [
        {
          "output_type": "stream",
          "name": "stdout",
          "text": [
            "Rishi\n",
            "Rishi\n",
            "rishi\n",
            "(60, 75, 85, 90)\n",
            "<class 'tuple'>\n"
          ]
        },
        {
          "output_type": "error",
          "ename": "TypeError",
          "evalue": "'tuple' object does not support item assignment",
          "traceback": [
            "\u001b[0;31m---------------------------------------------------------------------------\u001b[0m",
            "\u001b[0;31mTypeError\u001b[0m                                 Traceback (most recent call last)",
            "\u001b[0;32m<ipython-input-2-4da3adb745be>\u001b[0m in \u001b[0;36m<cell line: 0>\u001b[0;34m()\u001b[0m\n\u001b[1;32m     21\u001b[0m \u001b[0;34m\u001b[0m\u001b[0m\n\u001b[1;32m     22\u001b[0m \u001b[0;31m#2.1\u001b[0m\u001b[0;34m\u001b[0m\u001b[0;34m\u001b[0m\u001b[0m\n\u001b[0;32m---> 23\u001b[0;31m \u001b[0mmarks\u001b[0m\u001b[0;34m[\u001b[0m\u001b[0;36m0\u001b[0m\u001b[0;34m]\u001b[0m \u001b[0;34m=\u001b[0m \u001b[0;36m65\u001b[0m  \u001b[0;31m# Error : Tuple doest not support item assignment.\u001b[0m\u001b[0;34m\u001b[0m\u001b[0;34m\u001b[0m\u001b[0m\n\u001b[0m\u001b[1;32m     24\u001b[0m \u001b[0mprint\u001b[0m \u001b[0;34m(\u001b[0m\u001b[0mmarks\u001b[0m\u001b[0;34m)\u001b[0m\u001b[0;34m\u001b[0m\u001b[0;34m\u001b[0m\u001b[0m\n\u001b[1;32m     25\u001b[0m \u001b[0;34m\u001b[0m\u001b[0m\n",
            "\u001b[0;31mTypeError\u001b[0m: 'tuple' object does not support item assignment"
          ]
        }
      ]
    },
    {
      "cell_type": "markdown",
      "source": [
        "**Question 3.** ***What are the main diferrence between list and tuples.***\n",
        "\n",
        "  > Main differences between list and tuples are as follows -\n",
        "\n",
        "- **[Mutability]** : Lists are mutable data type while tuples are immutable.\n",
        "\n",
        "- **[syntax]** : list are defined using square bracket [] while tuples are defined using parentheses.\n",
        "\n",
        "- **[Methods]** : list support multiple methods ( append, extend, insert, remove, pop, clear, index, count, sort, reverse, copy ) while count support limited methods (count, index).\n",
        "\n",
        "- **[performance]** : list is slower due to dynamic nature while tuples are faster due to static nature.\n",
        "\n",
        "- **[memory usage]** : list consume more memory while tuple are more memory efficient.\n",
        "\n",
        "- **[use as dictionary key]** :  not allowed in list (unhashable) while allowed in tuple (hashable).\n",
        "\n",
        "- **[use case]** : lists are suitable for collection that may change while tuples are used for fixed collection.\n"
      ],
      "metadata": {
        "id": "6p4l6V5WYWIT"
      }
    },
    {
      "cell_type": "markdown",
      "source": [
        "**Question 4.** ***Describe how dictionaries store data.***\n",
        "\n",
        "  > Dictionaries are implemented using a data structure called hash table, which allows storage and retrival of key-value pairs.\n",
        "\n",
        "Structure of prthon dictionary :     \n",
        "\n",
        "- **Hash Table** : A dictionary uses a hash table that is a fixed type array of slots ( 8 )  also knowns as bucket. These slots can store a key value pair.\n",
        "\n",
        "- **Hash Function** : When a key is added to the dictionary, python computes its hash value using hash function. This hash value is then used to determine index in the array where the key-value pairs should be stored.\n",
        "\n",
        "- **Handling Collisions** : If two keys produce the same hash value (a collision), Python uses a method called open addressing to find the next available slot in the array. This involves probing the array in a systematic way until an empty slot is found.\n",
        "\n",
        "- **Storage of Entries** : Each entry in the hash table stores the hash value, the key, and the corresponding value. This allows Python to verify that the correct key is being accessed, especially in cases of hash collisions."
      ],
      "metadata": {
        "id": "5OqJpo6E_EtC"
      }
    },
    {
      "cell_type": "markdown",
      "source": [
        "**Question 5.** ***Why might you use set instead of list in python ?***\n",
        "\n",
        "  > Both sets and list stores collection of items but they serves different purpose and have distinct characteristics as mentioned below\n",
        "\n",
        "  - **Uniqueness of Elements** : sets are ideal if we want to store unique items.\n",
        "\n",
        "  - **Faster Membership Testing** : Checking if an item exists in a set is significantly faster than in a list, especially for large datasets. This is because sets are implemented as hash tables, allowing for average-case constant time complexity (O(1)) for lookups, whereas lists have linear time complexity (O(n)) .\n",
        "\n",
        "  - **Performing Set Operations** : Sets support mathematical set operations like union, intersection, difference, and symmetric difference, which are not directly available with lists. These operations are useful for tasks such as finding common elements between collections or identifying unique items .\n",
        "\n",
        "  - **Efficient Duplicate Removal** : Converting a list to a set is a quick way to remove duplicates from the list.\n",
        "\n",
        "  Examples to justify every pointer is mentioned below"
      ],
      "metadata": {
        "id": "nnlU3CBiG4EI"
      }
    },
    {
      "cell_type": "code",
      "source": [
        "# Uniqueness of elements\n",
        "\n",
        "lst = [1,2,3,5,6,7,3,2,1]\n",
        "print (type(lst))\n",
        "print (lst) # contains duplicate elements.\n",
        "my_set = set(lst)\n",
        "print (type(my_set))\n",
        "print (my_set) # eliminates all duplicate elements from the lst and gives unique elements only."
      ],
      "metadata": {
        "id": "VLycgrexUOsD"
      },
      "execution_count": null,
      "outputs": []
    },
    {
      "cell_type": "code",
      "source": [
        "# Faster Membership Testing\n",
        "\n",
        "import time\n",
        "\n",
        "lst = range(1000000)\n",
        "my_set = set(lst)\n",
        "look_up_value = 700000\n",
        "\n",
        "start_time = time.time()\n",
        "print (look_up_value in lst)\n",
        "print (time.time() - start_time)\n",
        "\n",
        "start_time = time.time()\n",
        "print (look_up_value in my_set)\n",
        "print (time.time() - start_time)\n"
      ],
      "metadata": {
        "id": "qDg1vrKsLGQE"
      },
      "execution_count": null,
      "outputs": []
    },
    {
      "cell_type": "code",
      "source": [
        "# Performing Set Operations\n",
        "\n",
        "set_1 = {1,2,3,4}\n",
        "set_2 = {6,8,2,9,3}\n",
        "\n",
        "print (set_1 | set_2) # union of set {1,2,3,4,6,8,9}\n",
        "print (set_1 & set_2) # intersection of set {2.3}\n",
        "print (set_1 - set_2) # difference of set {1,4}\n",
        "print (set_1 ^ set_2) # symmetric difference {1,4,6,8,9}"
      ],
      "metadata": {
        "id": "oJkiTlkpOnQM"
      },
      "execution_count": null,
      "outputs": []
    },
    {
      "cell_type": "code",
      "source": [
        "# Efficient Duplicat\n",
        "lst = [1,2,3,5,6,7,3,2,1]\n",
        "\n",
        "unique_lst = list(set(lst))\n",
        "print (unique_lst)"
      ],
      "metadata": {
        "id": "7JI42fd6P5nT"
      },
      "execution_count": null,
      "outputs": []
    },
    {
      "cell_type": "markdown",
      "source": [
        "Question 6. What is a string in python and how is it different fom a list ?\n",
        "\n",
        "  > String is a combination of immutable sequence of alphabets or characters which are enclosed inside a single (') or double quotes (\") and are commonly used to represent textual data.\n",
        "  \n",
        "   while list is a mutable ordered collection of different data types like int , float , string, complex number, list, or mixed type enclosed inside a square bracket [].\n",
        "\n",
        "   Below table shows differnce between string and list"
      ],
      "metadata": {
        "id": "iHD8wkO1QTr-"
      }
    },
    {
      "cell_type": "code",
      "source": [
        "heading =  \"**Feature**      \\t           **String**                           \\t         **list**\"\n",
        "print (heading)\n",
        "print ()\n",
        "\n",
        "point_1 = \"Mutability        \\t      Immutable (cannot be changed)             \\t    Mutable (can be modified)\"\n",
        "print (point_1)\n",
        "print ()\n",
        "\n",
        "point_2 = \"Data Types        \\t      Only characters                           \\t    Any data type (integers, strings, objects)\"\n",
        "print (point_2)\n",
        "print()\n",
        "\n",
        "point_3 = \"Notation          \\t      Enclosed in quotes ('text' or \\\"text\\\")   \\t            Enclosed in square brackets [ ]\"\n",
        "print (point_3)\n",
        "print ()\n",
        "\n",
        "point_4 = \"Indexing          \\t      Not possible                              \\t    Possible\"\n",
        "print (point_4)\n",
        "print ()\n",
        "\n",
        "point_5 = \"Slicing           \\t      Not possible                              \\t    Possible\"\n",
        "print (point_5)\n",
        "print()\n",
        "\n",
        "point_6 = \"Modification      \\t      Not allowed (must create a new string)    \\t    Allowed (can change, add, or remove elements)\"\n",
        "print (point_6)\n",
        "print ()\n",
        "\n",
        "point_7 = \"Methods           \\t      String-specific methods (e.g., .upper())  \\t    List-specific methods (e.g., .append())\"\n",
        "print (point_7)\n",
        "print ()\n",
        "\n",
        "point_8 = \"Use Case          \\t      Representing text                         \\t    Storing collections of items\"\n",
        "print (point_8)"
      ],
      "metadata": {
        "id": "FemjSWLWQQbz"
      },
      "execution_count": null,
      "outputs": []
    },
    {
      "cell_type": "markdown",
      "source": [
        "**Question 7**. ***How do tuples ensure data integrity in python ?***\n",
        "\n",
        "  > Tuples in python are immutable sequence of data structure that cannot be changed after its creation. This immutability plays a crucial role in  ensuring data integrity by preventing unintended modification.\n",
        "\n",
        "- **Immutability Prevents Unintended Changes** : Once a tuple is created, its elements cannot be changed, added, or removed. This characteristic ensures that the data remains consistent throughout the program, reducing the risk of bugs caused by accidental modifications.\n",
        "\n",
        "- **Safe to Use as Dictionary Keys** : Due to their immutability, tuples can be used as keys in dictionaries, whereas lists cannot. This is because dictionary keys must be hashable, and mutable objects like lists are not hashable.\n",
        "\n",
        "- **Predictable Behavior in Functions** : When tuples are passed to functions, there's no risk of the function altering the original data, as tuples cannot be modified. This leads to more predictable and safer code behavior.\n",
        "\n",
        "**Exception** - While tuples themselves are immutable, they can contain mutable objects like lists or dictionaries.\n",
        "\n",
        "If a tuple contains such objects, the contents of those mutable objects can still be changed, potentially compromising data integrity.\n",
        "\n",
        "Example is mentioned below for both immutability and Nesting mutable objects."
      ],
      "metadata": {
        "id": "ohelM7dB84oZ"
      }
    },
    {
      "cell_type": "code",
      "source": [
        "# tuples immutability\n",
        "\n",
        "t1 = (1, 2, 3, 4)\n",
        "t1.append(5) # Error : 'tuple' object has no attribute 'append'\n",
        "print (t1)"
      ],
      "metadata": {
        "id": "nqbihwaaUrgR"
      },
      "execution_count": null,
      "outputs": []
    },
    {
      "cell_type": "code",
      "source": [
        "# Nested Mutable Objects in tuples\n",
        "\n",
        "t1 = (1, 2, 3, 4, [9, 8, 7])\n",
        "t1[4].append(6) # list inside tuple will change while the tuple is constant.\n",
        "print (t1)"
      ],
      "metadata": {
        "id": "1MAHG9JkByJ_"
      },
      "execution_count": null,
      "outputs": []
    },
    {
      "cell_type": "markdown",
      "source": [
        "**Question 8**. ***What is hash tables and how is it related to dictionaries in python ? ***\n",
        "\n",
        "  > A hash table is data structure that maps a key to value using hash function().\n",
        "\n",
        "  >This function computes an index from the key, determining where the corresponding values are stored in an internal array.\n",
        "\n",
        "  > This approach allows for average-case constant time complexity, O(1), for lookup, insertion, and deletion operations.\n",
        "\n",
        "How Python Dictionaries Use Hash Tables -\n",
        "\n",
        "  - **Hashing the key** : When you insert a key-value pair into a dictionary, Python computes the hash of the key using the built-in hash() function.\n",
        "\n",
        "  - **Determining the Index** : The hash value is then used to determine the index in the internal array where the value should be stored.\n",
        "\n",
        "  - **Handling Collisions** :  If two keys produce the same hash value (a collision), Python employs a method called open addressing with quadratic probing to find the next available slot in the array.\n",
        "\n",
        "  - **Dynamic Resizing** : As more elements are added and the dictionary becomes full, Python automatically resizes the internal array to maintain efficient operations.\n",
        "\n",
        "  - **Storage of Entries** : Each entry in the hash table stores the hash value, the key, and the corresponding value. This allows Python to verify that the correct key is being accessed, especially in cases of hash collisions.\n",
        "\n"
      ],
      "metadata": {
        "id": "hmaQCI6eCljY"
      }
    },
    {
      "cell_type": "markdown",
      "source": [
        "**Question 9**. ***Can list contain different data type in python ?***\n",
        "\n",
        "  > Yes, Lists in Python can contain elements of different data type.\n",
        "  \n",
        "  > This flexibility is a fundamental feature of Python's dynamic typing system, allowing lists to hold integers, strings, floats, booleans, and even complex objects like other lists, dictionaries, or functions.\n"
      ],
      "metadata": {
        "id": "deUJwzilGm2X"
      }
    },
    {
      "cell_type": "code",
      "source": [
        "# Examples\n",
        "\n",
        "lst = [2, 5.5, True, 5+2j, [1, 2], {\"code\" : 321}, (9, 8 , 7)]\n",
        "\n",
        "for i in lst:\n",
        "  print (i)\n",
        "  print(type(i))"
      ],
      "metadata": {
        "id": "nZgggHTECUIP"
      },
      "execution_count": null,
      "outputs": []
    },
    {
      "cell_type": "markdown",
      "source": [
        "**Question 10**. ***Explain why strings are immutable in python ?***\n",
        "\n",
        "  > Strings in python are immutable, meaning once it is created it cannot be altered.\n",
        "\n",
        "  > This design offers many advantage that enhance performance , safety consistency in python programs.\n",
        "\n",
        "Reasons why strings are immutable -\n",
        "\n",
        "  - **Data Safety and Predictability** : Immutability ensure that string remaian constant through its life time. This means that if multiple variable reference same string, changes in one variable will not affect other variables, preventing unintended side effect and making code behavior more predictible.\n",
        "\n",
        "  - **Hashability for Dictionary Keys** : String due to its immutability can be hashed , allowing them to be used as keys in dictionary and elements in set.\n",
        "   If strings were mutable, their hash values could change, leading to inconsistencies and errors in data retrieval.\n",
        "\n",
        "  - **Performance Optimization** : Python can safely reuse memory for identical strings (a technique known as interning), reducing memory usage and improving performance.\n",
        "\n",
        "  - **Simplified Memory Management** : Immutable strings simplify memory allocation and management. Since their size and content don't change, the interpreter can allocate memory more efficiently without worrying about resizing or fragmentation."
      ],
      "metadata": {
        "id": "Y2yYpKgxic05"
      }
    },
    {
      "cell_type": "code",
      "source": [
        "# Example : Data Safety and Predictability\n",
        "\n",
        "name = \"Ajay\"\n",
        "alias = name\n",
        "name = \"Sandeep\"\n",
        "print (name)\n",
        "print (alias) #changing name doesn't affect alias because strings are immutable; alias still references the original name string.\n"
      ],
      "metadata": {
        "id": "EqAZir-EJo9t"
      },
      "execution_count": null,
      "outputs": []
    },
    {
      "cell_type": "code",
      "source": [
        "# Example : Hashability for Dictionary Keys\n",
        "\n",
        "emp_dict = {\"emp_name\" : \"Rajat\"}\n",
        "print (emp_dict[\"emp_name\"]) # String used as key, due to immutability its hash remain constant and gives the corresponding value.\n"
      ],
      "metadata": {
        "id": "7I9JAWuYpu6l"
      },
      "execution_count": null,
      "outputs": []
    },
    {
      "cell_type": "code",
      "source": [
        "# Example : Performance Optimization\n",
        "\n",
        "a = \"Perfect\"\n",
        "b = \"Perfect\"  # both a and b referes to same memory location which is possible due to its immutability.\n",
        "print (a is b)"
      ],
      "metadata": {
        "id": "R34-PyWGt-9L"
      },
      "execution_count": null,
      "outputs": []
    },
    {
      "cell_type": "code",
      "source": [
        "# Example : Simplified Memory Management\n",
        "c = \"Pw\"\n",
        "print (id(c))\n",
        "\n",
        "c = c + \"skills\" # id shows new srtring object is created after concatination which does not change original string.\n",
        "print (id(c))\n"
      ],
      "metadata": {
        "id": "QUnNJwb9vEYX"
      },
      "execution_count": null,
      "outputs": []
    },
    {
      "cell_type": "markdown",
      "source": [
        "**Question 11** . ***What advantage does dictionary offer over list for certain tasks ?***\n",
        "\n",
        "  > Dictionaries in Python offer several advantages over lists for specific tasks\n",
        "\n",
        "  - 1.**Fast Lookup by Key** :\n",
        "  \n",
        "   ***Dictionary*** uses average case O(1) time complexity for lookup , insertion , deletion by keys due to hash table implementation.\n",
        "\n",
        "  while ***lists*** uses linear O(n) time complexity which search for desired value one by one .\n",
        "\n",
        "  Hence Dictionary is less time consuming  in accessing a desired value as compared to lists.\n",
        "\n",
        "  - 2.**Associative Mapping** :\n",
        "\n",
        "   ***Dictionaries***: Ideal for scenarios where data is best represented as key-value pairs, such as mapping usernames to user profiles or product IDs to product details.\n",
        "\n",
        "   ***Lists***: Suitable for ordered collections where each element's position is significant, but not inherently associated with a unique identifier.\n",
        "\n",
        "  - 3.**Avoiding Duplicate Keys** :\n",
        "\n",
        "     ***Dictionary*** : Automatically enforce the uniqueness of key , if you provide a new value to already existing key dictionary willl automatically update the value to key already present in it thus preventing duplicate entries.\n",
        "\n",
        "     While ***Lists*** allow duplicate elements.\n",
        "\n",
        "  - 4.**Efficient Data Management** :\n",
        "\n",
        "     ***Dictionary*** : Efficient for managing large datasets where quick access, insertion, and deletion by key are required.\n",
        "\n",
        "     while ***Lists*** Operations like searching for an element or deleting a specific item can be time-consuming for large lists."
      ],
      "metadata": {
        "id": "fjTEmX-owE4d"
      }
    },
    {
      "cell_type": "code",
      "source": [
        "# Fast Lookup by Key\n",
        "\n",
        "My_dict = { \"emp_id\" : 7022, \"emp_name\": \"Rishabh\", \"emp_profile\" : \"Developer\"}\n",
        "print (My_dict[\"emp_id\"])"
      ],
      "metadata": {
        "id": "Ng4bZ6luvxSO"
      },
      "execution_count": null,
      "outputs": []
    },
    {
      "cell_type": "code",
      "source": [
        "# Associative Mapping\n",
        "\n",
        "products = {\"C001\" : \"SUV\", \"C002\" : \"Sedan\", \"C003\" : \"Hatchback\"}\n",
        "print (products) # Dict. This structure allows direct access to a product category using its ID\n",
        "a = products.keys()\n",
        "print (a)\n",
        "products.values()"
      ],
      "metadata": {
        "id": "avM8Icc35PuG"
      },
      "execution_count": null,
      "outputs": []
    },
    {
      "cell_type": "code",
      "source": [
        "# Avoiding Duplicate Keys\n",
        "products = {\"C001\" : \"SUV\", \"C002\" : \"Sedan\", \"C003\" : \"Hatchback\"}\n",
        "print (products) # original dictionary.\n",
        "\n",
        "products[\"C001\"] = \"Compact SUV\" # instead of creating a new key \"C001\" with value \"Compact SUV\" dictionary will overwrite new assigned value to th ekey already present.\n",
        "print (products)"
      ],
      "metadata": {
        "id": "j0pdOCKy5xf7"
      },
      "execution_count": null,
      "outputs": []
    },
    {
      "cell_type": "code",
      "source": [
        "# Efficient Data Management\n",
        "\n",
        "user_profiles = {'user1': 'Alice', 'user2': 'Bob', 'user3': 'Charlie'}\n",
        "del user_profiles['user2']  # Removes Bob's profile\n",
        "print(user_profiles)\n",
        "\n",
        "# This operation is swift and doesn't require shifting elements, unlike in a list."
      ],
      "metadata": {
        "id": "HzUoM3CP7O_0"
      },
      "execution_count": null,
      "outputs": []
    },
    {
      "cell_type": "markdown",
      "source": [
        "**Question 12**. ***Describe a scenerio where using tuple would be  preferable over a list.***\n",
        "\n",
        "  > Tuples in Python are immutable sequences, meaning their contents cannot be altered after creation. This immutability offers several advantages over lists in specific scenarios.\n",
        "\n",
        "  - 1.**Ensuring Data Integrity** : when we have collection of values that should remain constant throughout the program, tupples are ideal.\n",
        "\n",
        "    - **Example** - Cordinates of a point , latitute and longitude of a place etc.\n",
        "\n",
        "  - 2.**Using as Dictionary Keys** :  tuples are hashable (provided all their elements are hashable), they can be used as keys in dictionaries. Lists, being mutable, cannot serve this purpose.\n",
        "\n",
        "   - **Example** - Mapping coordinates to location names,  Engine no to the vehicle number, Entries in a passport etc, Employee data in aorganisation , childrens school record etc.\n",
        "\n",
        "  - 3.**Returning Multiple Values from Functions** - Functions often return multiple values as tuples, allowing for convenient unpacking.\n",
        "\n",
        "    - **Example** - accessing min and max value from a function using a tuple  is possible while in a list it is not.\n",
        "\n",
        "  - 4.**Performance and Memory Efficiency** : - Tuples are generally more memory-efficient and faster than lists due to their immutability. This can be beneficial when working with large datasets or in performance-critical applications.\n",
        "\n",
        "    - **Example** - comparing memory consumption of list and tuple , tuple occupies less space compared to lists."
      ],
      "metadata": {
        "id": "ruG8p69eLQAk"
      }
    },
    {
      "cell_type": "code",
      "source": [
        "# Ensuring Data Integrity - coordinates of a point\n",
        "\n",
        "point = (6,11)\n",
        "print (point)\n",
        "\n",
        "# Using as Dictionary Keys - Mapping engine no to the vehicle number\n",
        "\n",
        "Vehicle_info = {(\"MH8765AB43N\") : \"AB 07 BN 1997\", (\"KL9876GH123C\"): \"MN 12 N 8765\"}\n",
        "print (Vehicle_info)\n",
        "\n",
        "# Returning Multiple Values from Functions - using inside a funcion to get multiole values.\n",
        "\n",
        "def min_max(number):\n",
        "  return (min(number), max(number))\n",
        "\n",
        "min_val, max_val = min_max([9, 8, 7, 6, 5, 2])\n",
        "print (f\"the min and max value is {min_val, max_val}\")\n",
        "\n",
        "#Performance and Memory Efficiency - comparing memory consumption of list and tuple.\n",
        "\n",
        "data_set1 = [1,2,3,4,5,6,7]\n",
        "data_set2 = (1,2,3,4,5,6,7)\n",
        "print (f\"size of list is {data_set1.__sizeof__()}\")\n",
        "print (f\"size of tuple is {data_set2.__sizeof__()}\")\n",
        "\n"
      ],
      "metadata": {
        "id": "MorUlr7W7yy3"
      },
      "execution_count": null,
      "outputs": []
    },
    {
      "cell_type": "markdown",
      "source": [
        "**Question 13** . ***How do set handles duplicate value is python ?***\n",
        "\n",
        "  > In Python, a set is an unordered collection of unique elements. This means that sets automatically eliminate duplicate values. When you add elements to a set, any duplicates are ignored, ensuring that each element appears only once."
      ],
      "metadata": {
        "id": "pBdGgI5nUTwj"
      }
    },
    {
      "cell_type": "code",
      "source": [
        "# adding element to a set which already exists.\n",
        "\n",
        "my_set = {\"ab\", \"cd\",\"ef\",\"gh\"}\n",
        "my_set.add(\"ef\") # \"ef\" already exists hence it will not be added.\n",
        "print (my_set)\n",
        "\n",
        "# if we try to add a value that is not present it will be added.\n",
        "\n",
        "my_set = {\"ab\", \"cd\",\"ef\",\"gh\"}\n",
        "my_set.add(\"ij\")\n",
        "print (my_set)\n"
      ],
      "metadata": {
        "id": "B98tT79PQEoU"
      },
      "execution_count": null,
      "outputs": []
    },
    {
      "cell_type": "markdown",
      "source": [
        "**Question 14**. ***How does the \" in \" keyword works differently in list and dictionaries ?***\n",
        "\n",
        "  > **\" in \" in List**\n",
        "\n",
        "  - Membership operator \"in\" in list checks if specific values exists in a list . It compares every element present in a list with target value using **linear time complexity O(n)** (***that is it checks every element in a list sequentially untill it finds the target***) and returns the output as \"True\" if target value is presnt and \"False\" if not.\n",
        "\n",
        "  > **\" in \" in Dictionary**\n",
        "\n",
        "  - Membership Operator \" in \" in a dictionary checks if specific key is present in a dictionary or not. It uses the dictionary's hash table to quickly located the targeted key if the key is present using **Constant Time Complexity O(1)** (***O(1) gets the targeted key in constant time irrespective of the size of data it handles***) and returns the output as \"True\" if target value is presnt and \"False\" if not.\n",
        "\n",
        "   ***Exception*** : by default \" in \" in dictionary checks for key.  \n",
        "   - If you want to check for the values then you have to use .values() to check for the value in a dictionary.\n",
        "\n",
        "  "
      ],
      "metadata": {
        "id": "VbZzUMC0VpxX"
      }
    },
    {
      "cell_type": "code",
      "source": [
        "# \"in\" operator in list\n",
        "\n",
        "fruits = ['apple', 'banana', 'cherry']\n",
        "print(f\"is banana present in list : {'banana' in fruits}\")  # Output: True\n",
        "print(f\"is grape present in : {'grape' in fruits}\")   # Output: False\n"
      ],
      "metadata": {
        "id": "WdhCcGouVKUX"
      },
      "execution_count": null,
      "outputs": []
    },
    {
      "cell_type": "code",
      "source": [
        "# \"in\" operator in Dictionary\n",
        "print (\"\\nDefault\")\n",
        "student_scores = {'Alice': 85, 'Bob': 92, 'Charlie': 78}\n",
        "print(f\"is Bob present in dictionay : {'Bob' in student_scores}\")     # Output: True\n",
        "print(f\"is David present in dictionay : {'David' in student_scores}\")   # Output: False\n",
        "\n",
        "print (\"\\nchecking for values using 'in' operator - using .values() method\")\n",
        "\n",
        "student_scores = {'Alice': 85, 'Bob': 92, 'Charlie': 78}\n",
        "print(f\"is 85 present in dictionay : {85 in student_scores.values()}\")     # Output: True\n",
        "print(f\"is 99 present in dictionay : {99 in student_scores.values()}\")   # Output: False"
      ],
      "metadata": {
        "id": "Xg1skLRObFlS"
      },
      "execution_count": null,
      "outputs": []
    },
    {
      "cell_type": "markdown",
      "source": [
        "**Question 15**. ***Can you modify the element of a tuple. Explain why or why not.***\n",
        "\n",
        "  > No, we cannot modify the elements of a tuple due to it's immutable nature.\n",
        "\n",
        "**Exception**\n",
        "\n",
        "  > ***but if the tuple contain some of its element as mutable object like list, dict, set then these mutable elements can be modified.***\n",
        "\n",
        "Tuples are designed to be immutable for several reasons -\n",
        "\n",
        "  - 1. Data Integrity\n",
        "  - 2. Hashability\n",
        "  - 3. Performance\n"
      ],
      "metadata": {
        "id": "aXTbcn8UcoDJ"
      }
    },
    {
      "cell_type": "code",
      "source": [
        "# attempting to change an element in a tuple results in an error\n",
        "\n",
        "tup_le = (1,2,3)\n",
        "tup_le[1] = 6\n",
        "print (tup_le) # error"
      ],
      "metadata": {
        "id": "MVcYPbGzbzQj"
      },
      "execution_count": null,
      "outputs": []
    },
    {
      "cell_type": "code",
      "source": [
        "# tuple containing mutable objects as it's element , these mutable objects inside tuple can be modified.\n",
        "\n",
        "tup_le = ([1, 2], 3)\n",
        "tup_le[0].append(6)\n",
        "print(tup_le)  # Output: ([1, 2, 4], 3)\n"
      ],
      "metadata": {
        "id": "Z6t1qczheO1q"
      },
      "execution_count": null,
      "outputs": []
    },
    {
      "cell_type": "markdown",
      "source": [
        "**Question 16**. ***What is nested dictionary, and give an example of its use case ?***\n",
        "\n",
        "  > A nested dictionary is essentially a dictionary within a dictionary. This means that each key in outer dictionary maps to another dictionary as its value."
      ],
      "metadata": {
        "id": "LbJX2Ib7YD71"
      }
    },
    {
      "cell_type": "code",
      "source": [
        "# Example of Nested Dictionary.\n",
        "\n",
        "''' Here \"students\" is the main dictionary and \"student1 & student2\" are the keys.\n",
        "These key maps to another dictionary containig the details of the \"student1 & student2\".'''\n",
        "\n",
        "students = {\n",
        "    'student1' : {\"name\" : \"Ajay\", \"age\" : 25, \"grade\" : \"A\"},\n",
        "    'student2' : {\"name\" : \"Rajat\", \"age\" : 22, \"grade\" : \"B\"},\n",
        "}\n",
        "\n",
        "print (students)"
      ],
      "metadata": {
        "id": "KC7VJS7Af2I6"
      },
      "execution_count": null,
      "outputs": []
    },
    {
      "cell_type": "markdown",
      "source": [
        "**Use case of Nested Dictionary** :\n",
        "  > Nested dictionaries are particularly useful in scenarios where data is naturally hierarchical. For instance, managing student records in an educational institution.\n",
        "\n",
        "**Example** : The school dictionary contains classes as keys. Each class maps to another dictionary containing student names as keys, which in turn map to dictionaries of student details."
      ],
      "metadata": {
        "id": "c13RR16ZesLW"
      }
    },
    {
      "cell_type": "code",
      "source": [
        "# Example of use case mentioned above.\n",
        "\n",
        "school = {\n",
        "    'Class 11': {\n",
        "        'Rajat': {'age': 17, 'marks': {'Math': 88, 'Science': 92}},\n",
        "        'Rahul': {'age': 16, 'marks': {'Math': 75, 'Science': 85}},\n",
        "    },\n",
        "    'Class 12': {\n",
        "        'Nitish': {'age': 118, 'marks': {'Math': 90, 'Science': 95}},\n",
        "    }\n",
        "}\n",
        "\n",
        "print (school)\n"
      ],
      "metadata": {
        "colab": {
          "base_uri": "https://localhost:8080/"
        },
        "id": "qFwnz7mDgK46",
        "outputId": "79f8aed8-c9fc-4b2c-e14a-7e345bfbd061"
      },
      "execution_count": null,
      "outputs": [
        {
          "output_type": "stream",
          "name": "stdout",
          "text": [
            "{'Class 11': {'Rajat': {'age': 17, 'marks': {'Math': 88, 'Science': 92}}, 'Rahul': {'age': 16, 'marks': {'Math': 75, 'Science': 85}}}, 'Class 12': {'Nitish': {'age': 118, 'marks': {'Math': 90, 'Science': 95}}}}\n"
          ]
        }
      ]
    },
    {
      "cell_type": "markdown",
      "source": [
        "Accessing data in a dictionary\n",
        " - maths marks of Rahul"
      ],
      "metadata": {
        "id": "1rAMniYdiI3k"
      }
    },
    {
      "cell_type": "code",
      "source": [
        "Math_marks = school[\"Class 11\"][\"Rahul\"][\"marks\"][\"Math\"]\n",
        "print (Math_marks) # output : 75"
      ],
      "metadata": {
        "colab": {
          "base_uri": "https://localhost:8080/"
        },
        "id": "_Rn9wSVIghuh",
        "outputId": "a7f117f1-eb4a-46aa-98e8-719926503f6b"
      },
      "execution_count": null,
      "outputs": [
        {
          "output_type": "stream",
          "name": "stdout",
          "text": [
            "75\n"
          ]
        }
      ]
    },
    {
      "cell_type": "markdown",
      "source": [
        "Modifying Nested dictionaries :         \n",
        "  - Adding a New Student:\n",
        "  - Updating Marks:"
      ],
      "metadata": {
        "id": "o2PpdoL9iVm4"
      }
    },
    {
      "cell_type": "code",
      "source": [
        "# Adding a new student\n",
        "\n",
        "school[\"Class 12\"][\"Kaushlendra\"] = {\"age\" : 18, \"marks\" : {\"Math\" : 65, \"Science\" :75}}\n",
        "print (f'This is the new modified data : {school[\"Class 12\"]}')"
      ],
      "metadata": {
        "colab": {
          "base_uri": "https://localhost:8080/"
        },
        "id": "Q_7Ef2F0h1zH",
        "outputId": "285bd47b-cb48-4b58-9430-c710ce9d7758"
      },
      "execution_count": null,
      "outputs": [
        {
          "output_type": "stream",
          "name": "stdout",
          "text": [
            "This is the new modified data : {'Nitish': {'age': 118, 'marks': {'Math': 90, 'Science': 95}}, 'Kaushlendra': {'age': 18, 'marks': {'Math': 65, 'Science': 75}}}\n"
          ]
        }
      ]
    },
    {
      "cell_type": "code",
      "source": [
        "# Updating marks\n",
        "\n",
        "school[\"Class 11\"][\"Rahul\"][\"marks\"][\"Science\"] = 90\n",
        "print (f'This is the new modified data of Rahul : {school[\"Class 11\"][\"Rahul\"]}')\n"
      ],
      "metadata": {
        "colab": {
          "base_uri": "https://localhost:8080/"
        },
        "id": "qE5NNtSUjWUh",
        "outputId": "05868238-57bb-40c6-cd9e-08c35268e8cc"
      },
      "execution_count": null,
      "outputs": [
        {
          "output_type": "stream",
          "name": "stdout",
          "text": [
            "This is the new modified data of Rahul : {'age': 16, 'marks': {'Math': 75, 'Science': 90}}\n"
          ]
        }
      ]
    },
    {
      "cell_type": "markdown",
      "source": [
        "**Question 17**. ***Describe the time complexity of accessing elements in a dictionary.***\n",
        "\n",
        "  > In Python, accessing elements in a dictionary by key is highly efficient due to its underlying implementation using hash tables.\n",
        "\n",
        "**Time Complexity of Dictionary Access :**\n",
        "\n",
        "  - 1. Average case O(1) : On average, retrieving a value by its key in a dictionary takes constant time, O(1). This efficiency is achieved because dictionaries use a hash table internally, which allows direct access to values based on their keys.\n",
        "\n",
        "  - 2. Worst Case: O(n) : In rare scenarios, such as when multiple keys hash to the same value (hash collisions), the time complexity can degrade to O(n), where n is the number of elements in the dictionary.\n",
        "\n",
        "**How does it works :**  Using key to access values -\n",
        "\n",
        "1.  Hashing the Key : Python computes the hash value of the key using its __hash__() method.\n",
        "\n",
        "2.  Determining the Index : The hash value is used to determine the index in the underlying array where the key-value pair should reside.\n",
        "\n",
        "3.  Retrieving the Value : If the key is found at the computed index, its corresponding value is returned. If not, Python handles the collision using open addressing or other collision resolution techniques to find the correct key-value pair.\n",
        "\n",
        "\n",
        "\n",
        "\n"
      ],
      "metadata": {
        "id": "PEl-DjRYlpLE"
      }
    },
    {
      "cell_type": "markdown",
      "source": [
        "**Question 18**. ***In what situation are lists preffered over dictionaries ?***\n",
        "\n",
        "  > Lists are preferred over dictionaries in Python when you need to maintain an ordered collection of items, especially when the position of elements is significant.\n",
        "\n",
        "  > Here are some scenarios where using a list is more appropriate:\n",
        "\n",
        "\n",
        "\n",
        "1.   Ordered Collections : If the sequence of elements matters, such as maintaining a specific order, lists are ideal.\n",
        "  - Example - Batting lineup of players in cricket match.\n",
        "\n",
        "2.   Index-Based Access : When you need to access elements by their position, lists provide efficient O(1) access time.\n",
        "  - Example - Retrieving the third player in a lineup : my_lineup[2]\n",
        "\n",
        "3.   Allowing Duplicates : Lists can contain duplicate elements, which is useful when repetitions are meaningful.\n",
        "  - Example - Recording multiple instances of the same event, such as a bowler taking multiple wickets.\n",
        "\n",
        "4.   Simple Iteration : For straightforward iteration over elements without the need for key-value pairs, lists are more concise.\n",
        "  - Example - Looping through a list of names to print greetings.\n",
        "\n",
        "5.   Memory Efficiency : Lists generally consume less memory compared to dictionaries, as they only store values without associated keys.\n",
        "  - Example - Handling large datasets where memory usage is a concern\n",
        "\n",
        "\n",
        "\n",
        "\n",
        "\n",
        "\n"
      ],
      "metadata": {
        "id": "ORZUmQw3pPmI"
      }
    },
    {
      "cell_type": "code",
      "source": [
        "# 1. Ordered Collections : preserves the order in players are expected to bat.\n",
        "print (\"Ex.1\")\n",
        "\n",
        "batting_order = ['Rohit Sharma', 'Yashasvi Jaiswal', 'Shubman Gill', 'Virat Kohli', 'KL Rahul']\n",
        "print (batting_order)\n",
        "print()\n",
        "print(\"Ex.2\")\n",
        "\n",
        "# 2. Index-Based Access : to access the player name at any position lets say 3 positon.\n",
        "\n",
        "print (batting_order[2])\n",
        "print()\n",
        "print(\"Ex.3\")\n",
        "\n",
        "# 3. Allowing Duplicates : wickets taken by players .\n",
        "\n",
        "wicket_takers = ['Jasprit Bumrah', 'Mohammed Siraj', 'Jasprit Bumrah']\n",
        "print (wicket_takers)\n",
        "print()\n",
        "print(\"Ex.4\")\n",
        "\n",
        "# 4. Simple Iteration\n",
        "\n",
        "for i in batting_order:\n",
        "  print(i)\n",
        "  print()\n"
      ],
      "metadata": {
        "colab": {
          "base_uri": "https://localhost:8080/"
        },
        "id": "nYg6lVralYwO",
        "outputId": "94841ff9-ff13-487d-eaf4-391e16ebbc0a"
      },
      "execution_count": null,
      "outputs": [
        {
          "output_type": "stream",
          "name": "stdout",
          "text": [
            "Ex.1\n",
            "['Rohit Sharma', 'Yashasvi Jaiswal', 'Shubman Gill', 'Virat Kohli', 'KL Rahul']\n",
            "\n",
            "Ex.2\n",
            "Shubman Gill\n",
            "\n",
            "Ex.3\n",
            "['Jasprit Bumrah', 'Mohammed Siraj', 'Jasprit Bumrah']\n",
            "\n",
            "Ex.4\n",
            "Rohit Sharma\n",
            "\n",
            "Yashasvi Jaiswal\n",
            "\n",
            "Shubman Gill\n",
            "\n",
            "Virat Kohli\n",
            "\n",
            "KL Rahul\n",
            "\n"
          ]
        }
      ]
    },
    {
      "cell_type": "markdown",
      "source": [
        "**Question 19**. ***Why are dictionaries consider unordered, and how does that affect data retrival ?***\n",
        "\n",
        "  > Dictionaries in python are historically considered unordered collection meaning they didn't maintain the insertion order of key-value pairs.\n",
        "\n",
        "  > However this changed starting with python 3.7, where distionaries preserve insertion order of key-value pair by default.\n",
        "\n",
        "       ***Why Dictionaries Were Considered Unordered (Pre-Python 3.7)*** -\n",
        "\n",
        "1.   Dictionaries are implemented using hash tables.\n",
        "2.   The hash of a key determines where its value is stored.\n",
        "3.   The internal order was based on the hash values, not on the order of insertion.\n",
        "4.   As a result, iterating over a dictionary could return key-value pairs in any arbitrary order.\n",
        "\n",
        "  - **Impact:**\n",
        "\n",
        "      You couldn’t rely on the order of items when looping through a dictionary, which could affect things like display logic or ordered processing.\n",
        "\n",
        "  - **Example** - team_roles = {\n",
        "    \"captain\": \"Rohit Sharma\",\n",
        "    \"keeper\": \"KL Rahul\",\n",
        "    \"bowler\": \"Jasprit Bumrah\"\n",
        "}\n",
        "print(team_roles)\n",
        "\n",
        "  - **Output** - {'keeper': 'KL Rahul', 'bowler': 'Jasprit Bumrah', 'captain': 'Rohit Sharma'}\n",
        "\n",
        "\n",
        "       **Modern Python (3.7+) — Dictionaries Preserve Insertion Order**:\n",
        "\n",
        "1.   Python 3.7+ maintains the order in which items are added.\n",
        "\n",
        "\n",
        "**Conclusion :** ***Dictionaries can maintain the order after python (3.7+),However dictionaries  are still conceptually unordered because their priimary purpose is fast lookup, not sequence.***\n",
        "\n",
        "\n",
        "\n",
        "                    ***How It Affects Data Retrieval*** -\n",
        "\n",
        "1.   Key-based lookup (dict[key]) is always O(1) regardless of order — very efficient.\n",
        "\n",
        "2.   You cannot retrieve values by index like in lists (dict[0] won’t work).\n",
        "\n",
        "3.   If you need positional access, lists (or OrderedDict in earlier versions) are more appropriate.\n",
        "\n",
        "\n"
      ],
      "metadata": {
        "id": "umUD_tzwst27"
      }
    },
    {
      "cell_type": "code",
      "source": [
        "'''Example of dictionary in python 3.7+ give ordered output\n",
        "but conceptually considered as unordered because elements cannot be accessed using index\n",
        "and it is  basically  for fast lookup that uses average case time O(1) complexity to retrieve the target value'''\n",
        "\n",
        "\n",
        "team_roles = {\n",
        "    \"captain\": \"Rohit Sharma\",\n",
        "    \"keeper\": \"KL Rahul\",\n",
        "    \"bowler\": \"Jasprit Bumrah\"\n",
        "}\n",
        "print(team_roles)\n",
        "# Output: {'captain': 'Rohit Sharma', 'keeper': 'KL Rahul', 'bowler': 'Jasprit Bumrah'}\n"
      ],
      "metadata": {
        "colab": {
          "base_uri": "https://localhost:8080/"
        },
        "id": "lSsVAC_Ft8Oa",
        "outputId": "cb48d1e5-de28-48c2-879c-9dd4372fb82c"
      },
      "execution_count": null,
      "outputs": [
        {
          "output_type": "stream",
          "name": "stdout",
          "text": [
            "{'captain': 'Rohit Sharma', 'keeper': 'KL Rahul', 'bowler': 'Jasprit Bumrah'}\n"
          ]
        }
      ]
    },
    {
      "cell_type": "markdown",
      "source": [
        "**Question 20.** ***Explain the difference between a list and a dictionary in terms of data retrival.***\n",
        "\n",
        "  >  ***1. List: Index-Based Retrieval***\n",
        "\n",
        "  - Lists store data in a sequence, and elements are accessed using integer indices (starting from 0).\n",
        "\n",
        "  - Retrieval time: O(1) (constant time) when the index is known.\n",
        "\n",
        "  - Use when order matters and you access elements by position."
      ],
      "metadata": {
        "id": "uh4PCM3rznv3"
      }
    },
    {
      "cell_type": "code",
      "source": [
        "# Example List: Index-Based Retrieval\n",
        "\n",
        "players = ['Rohit Sharma', 'Virat Kohli', 'KL Rahul']\n",
        "print(players[1])  # Output: Virat Kohli\n"
      ],
      "metadata": {
        "colab": {
          "base_uri": "https://localhost:8080/"
        },
        "id": "A65Wx1wDziTD",
        "outputId": "56cca5aa-21d2-4165-ecd4-271c120362e6"
      },
      "execution_count": null,
      "outputs": [
        {
          "output_type": "stream",
          "name": "stdout",
          "text": [
            "Virat Kohli\n"
          ]
        }
      ]
    },
    {
      "cell_type": "markdown",
      "source": [
        "  ***2. Dictionary: Key-Based Retrieval***\n",
        "\n",
        "  - Dictionaries store data as key-value pairs, and elements are accessed using the key (not an index).\n",
        "\n",
        "  - Retrieval time: O(1) average case (thanks to hash tables).\n",
        "\n",
        "  - Use when you need to associate data with unique identifiers or labels."
      ],
      "metadata": {
        "id": "tqPyp-TA1GWY"
      }
    },
    {
      "cell_type": "code",
      "source": [
        "# Example Dictionary: Key-Based Retrieval\n",
        "\n",
        "team_roles = {\n",
        "    \"captain\": \"Rohit Sharma\",\n",
        "    \"keeper\": \"KL Rahul\",\n",
        "    \"batsman\": \"Virat Kohli\"\n",
        "}\n",
        "print(team_roles[\"keeper\"])  # Output: KL Rahul\n"
      ],
      "metadata": {
        "colab": {
          "base_uri": "https://localhost:8080/"
        },
        "id": "VbAIw-Z91E8h",
        "outputId": "64a702b9-1208-410c-9edf-61c546a01dac"
      },
      "execution_count": null,
      "outputs": [
        {
          "output_type": "stream",
          "name": "stdout",
          "text": [
            "KL Rahul\n"
          ]
        }
      ]
    },
    {
      "cell_type": "markdown",
      "source": [
        "# ***PRACTICAL QUESTIONS***"
      ],
      "metadata": {
        "id": "uckZHs531zZz"
      }
    },
    {
      "cell_type": "markdown",
      "source": [
        "**Question 1.** ***Write a code to create a string with your name and print it.***"
      ],
      "metadata": {
        "id": "lmC18tEKIzS3"
      }
    },
    {
      "cell_type": "code",
      "source": [
        "my_name = \"Rishabh\"\n",
        "print (f\"My Name is : {name}\")"
      ],
      "metadata": {
        "colab": {
          "base_uri": "https://localhost:8080/"
        },
        "id": "mUpbGKTA1wGN",
        "outputId": "64fbeaf8-4be3-4cee-8309-c16a3ed2ed7d"
      },
      "execution_count": null,
      "outputs": [
        {
          "output_type": "stream",
          "name": "stdout",
          "text": [
            "My Name is : Rishi\n"
          ]
        }
      ]
    },
    {
      "cell_type": "markdown",
      "source": [
        "**Question 2**. ***Write a code to print the length of string \"Hello World\".***"
      ],
      "metadata": {
        "id": "S_QFRPsRJMH7"
      }
    },
    {
      "cell_type": "code",
      "source": [
        "greeting = \"Hello World\"\n",
        "print (f\"Length of the string greeting is : {len(greeting)}\")"
      ],
      "metadata": {
        "colab": {
          "base_uri": "https://localhost:8080/"
        },
        "id": "X0QhWcoCI8B7",
        "outputId": "f55f47e9-69b9-4bd6-ec74-dffc64591a60"
      },
      "execution_count": null,
      "outputs": [
        {
          "output_type": "stream",
          "name": "stdout",
          "text": [
            "Length of the string greeting is : 11\n"
          ]
        }
      ]
    },
    {
      "cell_type": "markdown",
      "source": [
        "**Question 3.** ***Write a code to slice the first 3 character of the string \"Python Programming\"***"
      ],
      "metadata": {
        "id": "yQTFlUcQJv9o"
      }
    },
    {
      "cell_type": "code",
      "source": [
        "course = \"Python Programming\"\n",
        "first3_char = course[0:3]\n",
        "print(f\"The first 3 characters of the string is: {first3_char}\")\n"
      ],
      "metadata": {
        "id": "JxjmZL3iKQ15",
        "colab": {
          "base_uri": "https://localhost:8080/"
        },
        "outputId": "d307316f-1fd4-4db3-878b-f2deccbb9da9"
      },
      "execution_count": null,
      "outputs": [
        {
          "output_type": "stream",
          "name": "stdout",
          "text": [
            "The first 3 characters of the string is: Pyt\n"
          ]
        }
      ]
    },
    {
      "cell_type": "markdown",
      "source": [
        "**Question 4**. ***Write a code to convert string \"hello\" to upper case.***"
      ],
      "metadata": {
        "id": "9OTWiSKpSndU"
      }
    },
    {
      "cell_type": "code",
      "source": [
        "greet = \"hello\"\n",
        "print (f\"The string in upper case is : {greet.upper()}\")"
      ],
      "metadata": {
        "colab": {
          "base_uri": "https://localhost:8080/"
        },
        "id": "MEcvJmBFRq9L",
        "outputId": "23d2c84a-7bb6-4efc-8dba-1a54daa4175f"
      },
      "execution_count": null,
      "outputs": [
        {
          "output_type": "stream",
          "name": "stdout",
          "text": [
            "The string in upper case is : HELLO\n"
          ]
        }
      ]
    },
    {
      "cell_type": "markdown",
      "source": [
        "**Question 5**. ***Write a code to replace \"Apple\" with \"Orange\" in string \" I like Apple.***"
      ],
      "metadata": {
        "id": "xAcmMKw2S_JC"
      }
    },
    {
      "cell_type": "code",
      "source": [
        "fav_fruit = \"I like Apple\"\n",
        "fav_fruit.replace(\"Apple\", \"Orange\")"
      ],
      "metadata": {
        "colab": {
          "base_uri": "https://localhost:8080/",
          "height": 35
        },
        "id": "pVLu5iuRS7UB",
        "outputId": "3afcb45e-a892-4d25-cee7-a05fd639596b"
      },
      "execution_count": null,
      "outputs": [
        {
          "output_type": "execute_result",
          "data": {
            "text/plain": [
              "'I like Orange'"
            ],
            "application/vnd.google.colaboratory.intrinsic+json": {
              "type": "string"
            }
          },
          "metadata": {},
          "execution_count": 17
        }
      ]
    },
    {
      "cell_type": "markdown",
      "source": [
        "**Question 6**. ***write a code to create a lsit with numbers 1 to 5 and print it.***"
      ],
      "metadata": {
        "id": "QLRQUVJVTpas"
      }
    },
    {
      "cell_type": "code",
      "source": [
        "lst = list(range(1,6))\n",
        "print(f\"The list is : {lst}\")"
      ],
      "metadata": {
        "colab": {
          "base_uri": "https://localhost:8080/"
        },
        "id": "djOx3C9-TgAB",
        "outputId": "4ca61c10-7dba-4c98-9128-5e79bdc1e953"
      },
      "execution_count": null,
      "outputs": [
        {
          "output_type": "stream",
          "name": "stdout",
          "text": [
            "The list is : [1, 2, 3, 4, 5]\n"
          ]
        }
      ]
    },
    {
      "cell_type": "markdown",
      "source": [
        "**Question 7**. ***Write a code to append the number 10 to the  list [1, 2, 3, 4].***"
      ],
      "metadata": {
        "id": "DI34iEk3USwn"
      }
    },
    {
      "cell_type": "code",
      "source": [
        "lst = [1, 2, 3, 4]\n",
        "lst.append(10)\n",
        "print (f\"The list after appending is : {lst}\")"
      ],
      "metadata": {
        "colab": {
          "base_uri": "https://localhost:8080/"
        },
        "id": "ZD2sw_x1UBw8",
        "outputId": "580f55fa-55ba-4025-f458-f2f8b743ebf5"
      },
      "execution_count": null,
      "outputs": [
        {
          "output_type": "stream",
          "name": "stdout",
          "text": [
            "The list after appending is : [1, 2, 3, 4, 10]\n"
          ]
        }
      ]
    },
    {
      "cell_type": "markdown",
      "source": [
        "**Question 8**. ***Write a code to remove number 3 from the list [1, 2, 3, 4, 5].***"
      ],
      "metadata": {
        "id": "5zHMPKMYUvPW"
      }
    },
    {
      "cell_type": "code",
      "source": [
        "lst = list (range(1, 6))\n",
        "print (lst)\n",
        "lst.remove(3)\n",
        "print (f\" The list after removing 3 is : {lst}\")"
      ],
      "metadata": {
        "colab": {
          "base_uri": "https://localhost:8080/"
        },
        "id": "oto5T9QYUuJV",
        "outputId": "a7de5982-64bc-440d-a752-56fcc8e3a2c1"
      },
      "execution_count": null,
      "outputs": [
        {
          "output_type": "stream",
          "name": "stdout",
          "text": [
            "[1, 2, 3, 4, 5]\n",
            " The list after removing 3 is : [1, 2, 4, 5]\n"
          ]
        }
      ]
    },
    {
      "cell_type": "markdown",
      "source": [
        "**Question 9**. ***Write acode to access the second element in the list [ 'a', 'b', 'c', 'd'].***"
      ],
      "metadata": {
        "id": "fu8K28VUVbT2"
      }
    },
    {
      "cell_type": "code",
      "source": [
        "lst = [ 'a', 'b', 'c', 'd']\n",
        "lst[1]\n",
        "print (f\"The second element in the list is : {lst[1]}\")"
      ],
      "metadata": {
        "colab": {
          "base_uri": "https://localhost:8080/"
        },
        "id": "Dhfh6Y0lVL8D",
        "outputId": "a35ab720-b5fd-420b-eb59-3eaba1f3e7a6"
      },
      "execution_count": null,
      "outputs": [
        {
          "output_type": "stream",
          "name": "stdout",
          "text": [
            "The second element in the list is : b\n"
          ]
        }
      ]
    },
    {
      "cell_type": "markdown",
      "source": [
        "**Question 10**. ***Write a code to reverse the  list [10, 20, 30, 40, 50].***"
      ],
      "metadata": {
        "id": "W1aRmU_WV6Ms"
      }
    },
    {
      "cell_type": "code",
      "source": [
        "lst = list (range (10,51,10))\n",
        "print (lst) # original list\n",
        "print ()\n",
        "lst [ : : -1] # reverse List"
      ],
      "metadata": {
        "colab": {
          "base_uri": "https://localhost:8080/"
        },
        "id": "n3DIhw-aV0Nb",
        "outputId": "146b774c-a46d-452e-e367-dce57ef08a97"
      },
      "execution_count": null,
      "outputs": [
        {
          "output_type": "stream",
          "name": "stdout",
          "text": [
            "[10, 20, 30, 40, 50]\n",
            "\n"
          ]
        },
        {
          "output_type": "execute_result",
          "data": {
            "text/plain": [
              "[50, 40, 30, 20, 10]"
            ]
          },
          "metadata": {},
          "execution_count": 29
        }
      ]
    },
    {
      "cell_type": "markdown",
      "source": [
        "**Question 11**. ***Write a code to create a tuple with elements 100, 200, 300 and print it.***"
      ],
      "metadata": {
        "id": "hn41MpH7XCDg"
      }
    },
    {
      "cell_type": "code",
      "source": [
        "tup = tuple(range (100, 301, 100))\n",
        "print (f\"The tuple is : {tup}\")\n"
      ],
      "metadata": {
        "colab": {
          "base_uri": "https://localhost:8080/"
        },
        "id": "tST5wrmGWWdm",
        "outputId": "62bbfe09-ea2b-459a-f157-f8f528a6442b"
      },
      "execution_count": null,
      "outputs": [
        {
          "output_type": "stream",
          "name": "stdout",
          "text": [
            "The tuple is : (100, 200, 300)\n"
          ]
        }
      ]
    },
    {
      "cell_type": "markdown",
      "source": [
        "**Question 12**. ***Write acode to access the second-to-last element of the tuple ('red', 'green', 'blue', 'yellow').***"
      ],
      "metadata": {
        "id": "o1eiYIOLXuxW"
      }
    },
    {
      "cell_type": "code",
      "source": [
        "color_tup = ('red', 'green', 'blue', 'yellow')\n",
        "print (f\"second-to-last element of tuple is : {color_tup [1:]}\")"
      ],
      "metadata": {
        "colab": {
          "base_uri": "https://localhost:8080/"
        },
        "id": "Wv5K5G5rXe2y",
        "outputId": "920cd8cd-39bf-41d1-d88c-8c49dffc7f0d"
      },
      "execution_count": null,
      "outputs": [
        {
          "output_type": "stream",
          "name": "stdout",
          "text": [
            "second-to-last element of tuple is : ('green', 'blue', 'yellow')\n"
          ]
        }
      ]
    },
    {
      "cell_type": "markdown",
      "source": [
        "**Question 13**. ***Write a code to find the minimum number in tuple ( 10, 20, 5, 15).***"
      ],
      "metadata": {
        "id": "R9rFtH6NYtaY"
      }
    },
    {
      "cell_type": "code",
      "source": [
        "tup = ( 10, 20, 5, 15)\n",
        "min_tup = min(tup)\n",
        "print (f\"The minimum number in tuple is : {min_tup}\")"
      ],
      "metadata": {
        "colab": {
          "base_uri": "https://localhost:8080/"
        },
        "id": "nb8gv_COYoGY",
        "outputId": "133ee733-18a9-4edb-c25d-2ee0d681ec24"
      },
      "execution_count": null,
      "outputs": [
        {
          "output_type": "stream",
          "name": "stdout",
          "text": [
            "The minimum number in tuple is : 5\n"
          ]
        }
      ]
    },
    {
      "cell_type": "markdown",
      "source": [
        "**Question 14**. ***Write a code to find the index of element 'cat' in tuple ('dog', 'cat', 'rabbit').***"
      ],
      "metadata": {
        "id": "OLvGtQqfZVzY"
      }
    },
    {
      "cell_type": "code",
      "source": [
        "animals = ('dog', 'cat', 'rabbit')\n",
        "ndx_cat = animals.index('cat')\n",
        "print (f\"The index of element 'cat' in tuple is : {ndx_cat}\")"
      ],
      "metadata": {
        "colab": {
          "base_uri": "https://localhost:8080/"
        },
        "id": "gG1beB9iZIYz",
        "outputId": "39e0f2d2-0911-47a5-95ca-e8b822a2caa0"
      },
      "execution_count": null,
      "outputs": [
        {
          "output_type": "stream",
          "name": "stdout",
          "text": [
            "The index of element 'cat' in tuple is : 1\n"
          ]
        }
      ]
    },
    {
      "cell_type": "markdown",
      "source": [
        "**Question 15**. ***Write a code to create a tuple containing three different fruits and check if \"kiwi\" is in it.***"
      ],
      "metadata": {
        "id": "odnM2TKOaOux"
      }
    },
    {
      "cell_type": "code",
      "source": [
        "fetch_fruits = ('Apple','Orange','Grapes')\n",
        "if 'Kiwi' in fetch_fruits:\n",
        "  print (\"kiwi is present in tuple\")\n",
        "else:\n",
        "  print (\"kiwi is not present in tuple\")"
      ],
      "metadata": {
        "colab": {
          "base_uri": "https://localhost:8080/"
        },
        "id": "3bST9lA9Z23k",
        "outputId": "6fe6f584-69e7-4e22-e7a2-e5ad10bb68b2"
      },
      "execution_count": null,
      "outputs": [
        {
          "output_type": "stream",
          "name": "stdout",
          "text": [
            "kiwi is not present in tuple\n"
          ]
        }
      ]
    },
    {
      "cell_type": "markdown",
      "source": [
        "**Question 16**. ***Write a code to create a set with elements 'a', 'b', 'c' and print  it.***"
      ],
      "metadata": {
        "id": "lWbFZ7ZUbNjg"
      }
    },
    {
      "cell_type": "code",
      "source": [
        "elem = {'a', 'b', 'c'}\n",
        "print (type(elem))\n",
        "print (f\"This is the set containing elements : {elem}\")"
      ],
      "metadata": {
        "colab": {
          "base_uri": "https://localhost:8080/"
        },
        "id": "73-b5T31bESk",
        "outputId": "3ff621c3-3789-40b6-e9e2-0dcac386b5ae"
      },
      "execution_count": null,
      "outputs": [
        {
          "output_type": "stream",
          "name": "stdout",
          "text": [
            "<class 'set'>\n",
            "This is the set containing elements : {'c', 'a', 'b'}\n"
          ]
        }
      ]
    },
    {
      "cell_type": "markdown",
      "source": [
        "**Question 17**. ***Write a code to clear all elements from set {1, 2, 3, 4, 5}.***"
      ],
      "metadata": {
        "id": "ZGHgRhMJb-oQ"
      }
    },
    {
      "cell_type": "code",
      "source": [
        "tes = {1, 2, 3, 4, 5}\n",
        "print (f\"This is the set before clearing : {tes}\")\n",
        "tes.clear()\n",
        "print (f\"This is the set after clearing : {tes}\")"
      ],
      "metadata": {
        "colab": {
          "base_uri": "https://localhost:8080/"
        },
        "id": "J8xY6tHyb8--",
        "outputId": "65ca309a-b2ed-4c4b-fc22-8715e0d6be2e"
      },
      "execution_count": null,
      "outputs": [
        {
          "output_type": "stream",
          "name": "stdout",
          "text": [
            "This is the set before clearing : {1, 2, 3, 4, 5}\n",
            "This is the set after clearing : set()\n"
          ]
        }
      ]
    },
    {
      "cell_type": "markdown",
      "source": [
        "**Question 18**. ***Write a code to remove the  elements 4 from set {1, 2, 3, 4}.***"
      ],
      "metadata": {
        "id": "SCN3nMChcoSp"
      }
    },
    {
      "cell_type": "code",
      "source": [
        "s = {1, 2, 3, 4}\n",
        "s.remove(4)\n",
        "print (f\"This is the set after removing 4 : {s}\")\n"
      ],
      "metadata": {
        "colab": {
          "base_uri": "https://localhost:8080/"
        },
        "id": "_OF8Vv-dcRo5",
        "outputId": "a9a213f1-9c78-40a7-97a2-3964c121bd25"
      },
      "execution_count": null,
      "outputs": [
        {
          "output_type": "stream",
          "name": "stdout",
          "text": [
            "This is the set after removing 4 : {1, 2, 3}\n"
          ]
        }
      ]
    },
    {
      "cell_type": "markdown",
      "source": [
        "**Question 19**. ***Write a code to find the union of two set {1, 2, 3} and {3, 4, 5}.***"
      ],
      "metadata": {
        "id": "5Qaki3RMdJJV"
      }
    },
    {
      "cell_type": "code",
      "source": [
        "s1 = {1, 2, 3}\n",
        "s2 = {3, 4, 5}\n",
        "\n",
        "# union of s1 and s2\n",
        "\n",
        "#1st method (.union()). Returns the new set (does not modify the original set)\n",
        "s3 = s1.union(s2)\n",
        "print (f\"Method 1 - This is the union of two set : {s3}\")\n",
        "print ()\n",
        "\n",
        "#2nd method (|  or |=). Returns the new set (does not modify the original set)\n",
        "s4 = s1 | s2\n",
        "print (f\"Method 2 - This is the union of two set : {s4}\")\n",
        "print()\n",
        "\n",
        "#3rd method (.update()). Modifies the original set, same as method 2nd but it is helpfull while unioning multiple sets  (a.update(b, c, d)\n",
        "\n",
        "'''.update() method in Python is an in-place operation,\n",
        "which means it modifies the original set and does not return anything.\n",
        "Instead, it returns None, which is why you're seeing None when you print it directly.\n",
        "'''\n",
        "s1.update(s2)\n",
        "print (f\"Method 3 - This is the union of two set : {s1.update(s2) }\")\n",
        "print (s1)\n",
        "\n",
        "\n"
      ],
      "metadata": {
        "colab": {
          "base_uri": "https://localhost:8080/"
        },
        "id": "OD-e4UYydF3L",
        "outputId": "d373ebdc-8e72-4a60-b473-dd6e1e3a78bc"
      },
      "execution_count": null,
      "outputs": [
        {
          "output_type": "stream",
          "name": "stdout",
          "text": [
            "Method 1 - This is the union of two set : {1, 2, 3, 4, 5}\n",
            "\n",
            "Method 2 - This is the union of two set : {1, 2, 3, 4, 5}\n",
            "\n",
            "Method 3 - This is the union of two set : None\n",
            "{1, 2, 3, 4, 5}\n"
          ]
        }
      ]
    },
    {
      "cell_type": "markdown",
      "source": [
        "**Question 20**. ***Write a code to find the intersection of two set {1, 2, 3} and {2, 3, 4}.***"
      ],
      "metadata": {
        "id": "SPGxElJdifDz"
      }
    },
    {
      "cell_type": "code",
      "source": [
        "s1 = {1, 2, 3}\n",
        "s2 = {2, 3, 4}\n",
        "\n",
        "# Method 1 (.intersection()) method :\n",
        "intersection = s1.intersection(s2)\n",
        "print(intersection)\n",
        "\n",
        "\n",
        "#Method 2 using '&' :\n",
        "s3 = s1 & s2\n",
        "print (s3)\n"
      ],
      "metadata": {
        "colab": {
          "base_uri": "https://localhost:8080/"
        },
        "id": "UckWITadeJp_",
        "outputId": "40a6f418-bf86-4bf4-f431-d79ffa9731c0"
      },
      "execution_count": null,
      "outputs": [
        {
          "output_type": "stream",
          "name": "stdout",
          "text": [
            "{2, 3}\n",
            "{2, 3}\n"
          ]
        }
      ]
    },
    {
      "cell_type": "markdown",
      "source": [
        "**Question 21**. ***Write a code to create a dictionary with the keys \"name\", \"age\", and \"city\", and print it.***"
      ],
      "metadata": {
        "id": "xL6KWFI5kHv4"
      }
    },
    {
      "cell_type": "code",
      "source": [
        "my_dict = {'name' : 'Rahul', 'age' : 22, 'city' : 'Delhi'}\n",
        "print (type(my_dict))\n",
        "print (my_dict)\n",
        "\n"
      ],
      "metadata": {
        "colab": {
          "base_uri": "https://localhost:8080/"
        },
        "id": "8g6qA9YjjWEI",
        "outputId": "146315e5-6386-44fa-d692-05c3e3744fd1"
      },
      "execution_count": null,
      "outputs": [
        {
          "output_type": "stream",
          "name": "stdout",
          "text": [
            "<class 'dict'>\n",
            "{'name': 'Rahul', 'age': 22, 'city': 'Delhi'}\n"
          ]
        }
      ]
    },
    {
      "cell_type": "markdown",
      "source": [
        "**Question 22**. ***Write a code to add a new key-value pair \"country\": \"USA\" to the dictionary {'name': 'John', 'age': 25}***.\n"
      ],
      "metadata": {
        "id": "Hy2NpbclkPrL"
      }
    },
    {
      "cell_type": "code",
      "source": [
        "# Method 1 adding new index key and assigning a new value to it.\n",
        "my_dict = {'name': 'John', 'age': 25}\n",
        "my_dict['country'] = \"USA\"\n",
        "print (my_dict)\n",
        "\n",
        "# Methos 2 .update()\n",
        "my_dict.update({'country' : 'USA'})\n",
        "print (my_dict)"
      ],
      "metadata": {
        "colab": {
          "base_uri": "https://localhost:8080/"
        },
        "id": "9axWB1uKkX9j",
        "outputId": "7f061a48-b38c-4012-ed7e-ac1f8241e72a"
      },
      "execution_count": null,
      "outputs": [
        {
          "output_type": "stream",
          "name": "stdout",
          "text": [
            "{'name': 'John', 'age': 25, 'country': 'USA'}\n",
            "{'name': 'John', 'age': 25, 'country': 'USA'}\n"
          ]
        }
      ]
    },
    {
      "cell_type": "markdown",
      "source": [
        "**Question 23**. ***Write a code to access the value associated with the key \"name\" in the dictionary {'name': 'Alice', 'age': 30}.***\n"
      ],
      "metadata": {
        "id": "jUJT3hUWkYt7"
      }
    },
    {
      "cell_type": "code",
      "source": [
        "data =  {'name': 'Alice', 'age': 30}\n",
        "data['name']"
      ],
      "metadata": {
        "colab": {
          "base_uri": "https://localhost:8080/",
          "height": 35
        },
        "id": "M_uOC-CnkdBc",
        "outputId": "e6a2fdfd-bab0-4333-b027-3f2d43d33bbb"
      },
      "execution_count": null,
      "outputs": [
        {
          "output_type": "execute_result",
          "data": {
            "text/plain": [
              "'Alice'"
            ],
            "application/vnd.google.colaboratory.intrinsic+json": {
              "type": "string"
            }
          },
          "metadata": {},
          "execution_count": 66
        }
      ]
    },
    {
      "cell_type": "markdown",
      "source": [
        "***Question 24***. ***Write a code to remove the key \"age\" from the dictionary {'name': 'Bob', 'age': 22, 'city': 'New York'}.***\n"
      ],
      "metadata": {
        "id": "DVw3izWtkdl_"
      }
    },
    {
      "cell_type": "code",
      "source": [
        "# Method 1. [.pop]\n",
        "emp = {'name': 'Bob', 'age': 22, 'city': 'New York'}\n",
        "emp.pop('age')\n",
        "print (emp)\n",
        "\n",
        "# Method 2. del dict['key']\n",
        "emp = {'name': 'Bob', 'age': 22, 'city': 'New York'}\n",
        "del emp['age']\n",
        "print(emp)"
      ],
      "metadata": {
        "colab": {
          "base_uri": "https://localhost:8080/"
        },
        "id": "Re-5bbb4kiXe",
        "outputId": "2afee09b-7636-41d8-b2b6-dcd07e94e49e"
      },
      "execution_count": null,
      "outputs": [
        {
          "output_type": "stream",
          "name": "stdout",
          "text": [
            "{'name': 'Bob', 'city': 'New York'}\n",
            "{'name': 'Bob', 'city': 'New York'}\n"
          ]
        }
      ]
    },
    {
      "cell_type": "markdown",
      "source": [
        "***Question 25. Write a code to check if the key \"city\" exists in the dictionary {'name': 'Alice', 'city': 'Paris'}.***\n"
      ],
      "metadata": {
        "id": "yMmSjbm6kjGN"
      }
    },
    {
      "cell_type": "code",
      "source": [
        "mem_op = {'name': 'Alice', 'city': 'Paris'}\n",
        "if 'city' in mem_op:\n",
        "  print (\"city is present in dictionary\")\n",
        "else:\n",
        "  print (\"city is not present in dictionary\")"
      ],
      "metadata": {
        "colab": {
          "base_uri": "https://localhost:8080/"
        },
        "id": "WE9lfJaWkn9I",
        "outputId": "c61fc131-ef09-42ab-9656-d322dcbc359d"
      },
      "execution_count": null,
      "outputs": [
        {
          "output_type": "stream",
          "name": "stdout",
          "text": [
            "city is present in dictionary\n"
          ]
        }
      ]
    },
    {
      "cell_type": "markdown",
      "source": [
        "***Question 26. Write a code to create a list, a tuple, and a dictionary, and print them all.***\n"
      ],
      "metadata": {
        "id": "bYfbDNHvkomj"
      }
    },
    {
      "cell_type": "code",
      "source": [
        "a = list(range(1,10))\n",
        "b = tuple(a)\n",
        "c = {'name': 'Alice', 'city': 'Paris'}\n",
        "print (f\"{type(a)} : {a}\")\n",
        "print (f\"{type(b)}: {b}\")\n",
        "print (f\"{type(c)} : {c}\")\n"
      ],
      "metadata": {
        "colab": {
          "base_uri": "https://localhost:8080/"
        },
        "id": "MNneVuotktFy",
        "outputId": "09372b9c-8a4d-4d5b-85ed-aec166db7a65"
      },
      "execution_count": null,
      "outputs": [
        {
          "output_type": "stream",
          "name": "stdout",
          "text": [
            "<class 'list'> : [1, 2, 3, 4, 5, 6, 7, 8, 9]\n",
            "<class 'tuple'>: (1, 2, 3, 4, 5, 6, 7, 8, 9)\n",
            "<class 'dict'> : {'name': 'Alice', 'city': 'Paris'}\n"
          ]
        }
      ]
    },
    {
      "cell_type": "markdown",
      "source": [
        "***Question 27. Write a code to create a list of 5 random numbers between 1 and 100, sort it in ascending order, and print the\n",
        "result.(replaced).***\n"
      ],
      "metadata": {
        "id": "87gVzk-KktpH"
      }
    },
    {
      "cell_type": "code",
      "source": [
        "import random\n",
        "\n",
        "random_number = [random.randint(1, 100) for i in range(5)]\n",
        "print (f\"This is the list of random number : {random_number}\")\n",
        "\n",
        "random_number.sort()\n",
        "print (f\"List is sorted in ascending order : {random_number}\")\n",
        "\n",
        "\n",
        "\n"
      ],
      "metadata": {
        "colab": {
          "base_uri": "https://localhost:8080/"
        },
        "id": "NpRqAOESk09X",
        "outputId": "7e87386b-cd76-426c-b154-b9d00799225f"
      },
      "execution_count": null,
      "outputs": [
        {
          "output_type": "stream",
          "name": "stdout",
          "text": [
            "This is the list of random number : [68, 34, 51, 81, 71]\n",
            "List is sorted in ascending order : [34, 51, 68, 71, 81]\n"
          ]
        }
      ]
    },
    {
      "cell_type": "markdown",
      "source": [
        "***Question 28. Write a code to create a list with strings and print the element at the third index.***\n"
      ],
      "metadata": {
        "id": "ZT2emeiFk1cq"
      }
    },
    {
      "cell_type": "code",
      "source": [
        "fruits = [\"apple\", \"banana\", \"cherry\", \"mango\", \"orange\"]\n",
        "\n",
        "print (f\"The third element of the list is : {fruits[2]}\")"
      ],
      "metadata": {
        "colab": {
          "base_uri": "https://localhost:8080/"
        },
        "id": "Cv7r91l3k5-3",
        "outputId": "09b341fb-861c-4183-f0b1-36eee81b9e8a"
      },
      "execution_count": null,
      "outputs": [
        {
          "output_type": "stream",
          "name": "stdout",
          "text": [
            "The third element of the list is : cherry\n"
          ]
        }
      ]
    },
    {
      "cell_type": "markdown",
      "source": [
        "***Question 29. Write a code to combine two dictionaries into one and print the result.***\n"
      ],
      "metadata": {
        "id": "aFM_xpr2k6nT"
      }
    },
    {
      "cell_type": "code",
      "source": [
        "dict1 = {'a': 1, 'b': 2}\n",
        "dict2 = {'c': 3}\n",
        "\n",
        "#Returns a new dictionary\n",
        "print('Method 1 : using (**)')\n",
        "combined_dict = {**dict1, **dict2}\n",
        "print (f\"The combined dictionary is : {combined_dict}\")\n",
        "print()\n",
        "\n",
        "#Returns a new dictionary\n",
        "print('Method 2 : Using (|=)')\n",
        "dict3 = dict1 | dict2\n",
        "print (f\"The combined dictionary is : {dict3}\")\n",
        "print()\n",
        "\n",
        "print ('Methos 3 : ( .update() )')\n",
        "# Modifies the original dictionary i.e dict1'\n",
        "dict4 = dict1.update(dict2)\n",
        "print (f\"The combined dictionary is : {dict4}\")\n",
        "print (dict1)\n"
      ],
      "metadata": {
        "colab": {
          "base_uri": "https://localhost:8080/"
        },
        "id": "W1i2SGWNk_DK",
        "outputId": "d80a20a5-32b3-4162-ed04-06d6f334e314"
      },
      "execution_count": null,
      "outputs": [
        {
          "output_type": "stream",
          "name": "stdout",
          "text": [
            "Method 1 : using (**)\n",
            "The combined dictionary is : {'a': 1, 'b': 2, 'c': 3}\n",
            "\n",
            "Method 2 : Using (|=)\n",
            "The combined dictionary is : {'a': 1, 'b': 2, 'c': 3}\n",
            "\n",
            "Methos 3 : ( .update() )\n",
            "The combined dictionary is : None\n",
            "{'a': 1, 'b': 2, 'c': 3}\n"
          ]
        }
      ]
    },
    {
      "cell_type": "markdown",
      "source": [
        "***Question 30. Write a code to convert a list of strings into a set.***"
      ],
      "metadata": {
        "id": "UHoUK32Ak_lD"
      }
    },
    {
      "cell_type": "code",
      "source": [
        "fruits = [\"apple\", \"banana\", \"cherry\", \"mango\", \"orange\"]\n",
        "Fruit_set = set(fruits)\n",
        "print (\"set : \", Fruit_set)"
      ],
      "metadata": {
        "colab": {
          "base_uri": "https://localhost:8080/"
        },
        "id": "aDdnRQQ2lGN2",
        "outputId": "ec782aad-0f2e-46eb-804f-46440c4800ff"
      },
      "execution_count": null,
      "outputs": [
        {
          "output_type": "stream",
          "name": "stdout",
          "text": [
            "set :  {'orange', 'apple', 'mango', 'banana', 'cherry'}\n"
          ]
        }
      ]
    }
  ]
}